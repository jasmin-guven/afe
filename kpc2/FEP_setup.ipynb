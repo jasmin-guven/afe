{
 "cells": [
  {
   "cell_type": "code",
   "execution_count": 5,
   "id": "9412384d",
   "metadata": {},
   "outputs": [],
   "source": [
    "import numpy as np\n",
    "import BioSimSpace as BSS"
   ]
  },
  {
   "cell_type": "code",
   "execution_count": 3,
   "id": "2d489665",
   "metadata": {},
   "outputs": [],
   "source": [
    "# Paths"
   ]
  },
  {
   "cell_type": "code",
   "execution_count": 10,
   "id": "d7c0179d",
   "metadata": {
    "scrolled": true
   },
   "outputs": [],
   "source": [
    "# Load input files\n",
    "ligand_1 = BSS.IO.readMolecules(\"gtv.mol2\")[0]\n",
    "ligand_2 = BSS.IO.readMolecules(\"ykg.mol2\")[0]\n",
    "# print(ligand_2)"
   ]
  },
  {
   "cell_type": "code",
   "execution_count": 11,
   "id": "2e5e32f7",
   "metadata": {},
   "outputs": [
    {
     "data": {
      "text/plain": [
       "<BioSimSpace.Molecule: nAtoms=28, nResidues=1>"
      ]
     },
     "execution_count": 11,
     "metadata": {},
     "output_type": "execute_result"
    }
   ],
   "source": [
    "ligand_2"
   ]
  },
  {
   "cell_type": "code",
   "execution_count": 8,
   "id": "855159eb",
   "metadata": {},
   "outputs": [
    {
     "data": {
      "text/plain": [
       "<BioSimSpace.Molecule: nAtoms=4017, nResidues=270>"
      ]
     },
     "execution_count": 8,
     "metadata": {},
     "output_type": "execute_result"
    }
   ],
   "source": [
    "protein = BSS.IO.readMolecules(\"6d18_clean.pdb\")[0]\n",
    "protein"
   ]
  },
  {
   "cell_type": "markdown",
   "id": "f9c2a44c",
   "metadata": {},
   "source": [
    "# Parameterising input molecules\n",
    "\n",
    "Try using SMILES strings to directly parameterise"
   ]
  },
  {
   "cell_type": "code",
   "execution_count": 14,
   "id": "162f8a68",
   "metadata": {},
   "outputs": [],
   "source": [
    "# ligand_2 = BSS.Parameters.gaff2(\"Cc1cc2c(c(c1)Br)C(=CC(=O)O2)CP(=O)(O)O\").getMolecule()"
   ]
  },
  {
   "cell_type": "code",
   "execution_count": 16,
   "id": "ccecb9c1",
   "metadata": {},
   "outputs": [],
   "source": [
    "# ligand_1 = BSS.Parameters.gaff2(\"Cc1cc(c2c(c1)OC(=O)C=C2CP(=O)(O)O)C\").getMolecule()"
   ]
  },
  {
   "cell_type": "code",
   "execution_count": 31,
   "id": "92b57aca",
   "metadata": {
    "scrolled": true
   },
   "outputs": [
    {
     "data": {
      "application/vnd.jupyter.widget-view+json": {
       "model_id": "011d39c4d59a4444abc132580a4488e0",
       "version_major": 2,
       "version_minor": 0
      },
      "text/plain": []
     },
     "metadata": {},
     "output_type": "display_data"
    },
    {
     "data": {
      "application/vnd.jupyter.widget-view+json": {
       "model_id": "d9d2271cfc494d2c85c219da9b22143b",
       "version_major": 2,
       "version_minor": 0
      },
      "text/plain": [
       "ThemeManager()"
      ]
     },
     "metadata": {},
     "output_type": "display_data"
    },
    {
     "data": {
      "application/vnd.jupyter.widget-view+json": {
       "model_id": "14cdce9418c640b3aaf9ec486d69b642",
       "version_major": 2,
       "version_minor": 0
      },
      "text/plain": [
       "NGLWidget(gui_style='ngl')"
      ]
     },
     "metadata": {},
     "output_type": "display_data"
    }
   ],
   "source": [
    "view = BSS.Notebook.View(ligand_1)\n",
    "view.system()"
   ]
  },
  {
   "cell_type": "code",
   "execution_count": 32,
   "id": "0ac6a396",
   "metadata": {
    "scrolled": true
   },
   "outputs": [
    {
     "data": {
      "application/vnd.jupyter.widget-view+json": {
       "model_id": "36e7af1c42644342816069bda1fe0428",
       "version_major": 2,
       "version_minor": 0
      },
      "text/plain": [
       "NGLWidget(gui_style='ngl')"
      ]
     },
     "metadata": {},
     "output_type": "display_data"
    }
   ],
   "source": [
    "view = BSS.Notebook.View(ligand_2)\n",
    "view.system()"
   ]
  },
  {
   "cell_type": "markdown",
   "id": "2868957f",
   "metadata": {},
   "source": [
    "# Try parameterising .mol2 files\n"
   ]
  },
  {
   "cell_type": "code",
   "execution_count": 9,
   "id": "1e058b13",
   "metadata": {},
   "outputs": [],
   "source": [
    "ligand_1 = BSS.Parameters.gaff2(ligand_1).getMolecule()"
   ]
  },
  {
   "cell_type": "code",
   "execution_count": 13,
   "id": "41b6f542",
   "metadata": {},
   "outputs": [],
   "source": [
    "ligand_2 = BSS.Parameters.gaff2(ligand_2).getMolecule()"
   ]
  },
  {
   "cell_type": "markdown",
   "id": "d2ef4790",
   "metadata": {},
   "source": [
    "# NOTE\n",
    "\n",
    "Before the below step, run `pdb4amber` to first remove hydrogens and then to add all missing atoms. Details on Notion."
   ]
  },
  {
   "cell_type": "code",
   "execution_count": 14,
   "id": "fd25b995",
   "metadata": {},
   "outputs": [],
   "source": [
    "protein = BSS.Parameters.parameterise(protein, forcefield=\"ff14SB\").getMolecule()"
   ]
  },
  {
   "cell_type": "code",
   "execution_count": 33,
   "id": "5efd21da",
   "metadata": {},
   "outputs": [
    {
     "data": {
      "application/vnd.jupyter.widget-view+json": {
       "model_id": "df5f2badb2c04145bececa34b0d78b04",
       "version_major": 2,
       "version_minor": 0
      },
      "text/plain": [
       "NGLWidget(gui_style='ngl')"
      ]
     },
     "metadata": {},
     "output_type": "display_data"
    }
   ],
   "source": [
    "view = BSS.Notebook.View(protein)\n",
    "view.system()"
   ]
  },
  {
   "cell_type": "markdown",
   "id": "5aa7fe3d",
   "metadata": {},
   "source": [
    "# Alignment and merging\n",
    "\n",
    "To transform two ligands, they need to be well aligned. In BSS, we can do this with the function `Align`. It uses a Maximum Common Substructure (MCS) search, which finds mappings between atom indices in the two molecules. \n",
    "\n",
    "`BSS.Align.matchAtoms()` matches the atoms with MCS. It finds mappings between atom indices in molecule 1 and molecule 2. \n",
    "\n",
    "`BSS.Align.rmsdAlign()` uses the above mapping to actually align the atoms from molecule 1 to molecule 2. "
   ]
  },
  {
   "cell_type": "code",
   "execution_count": 15,
   "id": "3c0b85a3",
   "metadata": {},
   "outputs": [],
   "source": [
    "atom_mapping = BSS.Align.matchAtoms(ligand_1, ligand_2)\n",
    "aligned_ligand_1 = BSS.Align.rmsdAlign(ligand_1, ligand_2, atom_mapping)"
   ]
  },
  {
   "cell_type": "markdown",
   "id": "87ba0925",
   "metadata": {},
   "source": [
    "Now we have to create a 'merged' molecule, i.e. a molecule that we can transform in a way such that the endpoints are both input ligands:"
   ]
  },
  {
   "cell_type": "code",
   "execution_count": 16,
   "id": "59403cb3",
   "metadata": {},
   "outputs": [
    {
     "ename": "IncompatibleError",
     "evalue": "Cannot determine 'forcefield' of 'molecule0'!",
     "output_type": "error",
     "traceback": [
      "\u001b[0;31m---------------------------------------------------------------------------\u001b[0m",
      "\u001b[0;31mIncompatibleError\u001b[0m                         Traceback (most recent call last)",
      "Input \u001b[0;32mIn [16]\u001b[0m, in \u001b[0;36m<cell line: 1>\u001b[0;34m()\u001b[0m\n\u001b[0;32m----> 1\u001b[0m merged \u001b[38;5;241m=\u001b[39m \u001b[43mBSS\u001b[49m\u001b[38;5;241;43m.\u001b[39;49m\u001b[43mAlign\u001b[49m\u001b[38;5;241;43m.\u001b[39;49m\u001b[43mmerge\u001b[49m\u001b[43m(\u001b[49m\u001b[43mligand_1\u001b[49m\u001b[43m,\u001b[49m\u001b[43m \u001b[49m\u001b[43mligand_2\u001b[49m\u001b[43m)\u001b[49m\n",
      "File \u001b[0;32m~/Software/miniconda3/envs/bss-d/lib/python3.9/site-packages/BioSimSpace/Align/_align.py:1216\u001b[0m, in \u001b[0;36mmerge\u001b[0;34m(molecule0, molecule1, mapping, allow_ring_breaking, allow_ring_size_change, force, property_map0, property_map1)\u001b[0m\n\u001b[1;32m   1213\u001b[0m sire_mapping \u001b[38;5;241m=\u001b[39m _to_sire_mapping(mapping)\n\u001b[1;32m   1215\u001b[0m \u001b[38;5;66;03m# Create and return the merged molecule.\u001b[39;00m\n\u001b[0;32m-> 1216\u001b[0m \u001b[38;5;28;01mreturn\u001b[39;00m \u001b[43m_merge\u001b[49m\u001b[43m(\u001b[49m\u001b[43mmolecule0\u001b[49m\u001b[43m,\u001b[49m\u001b[43m \u001b[49m\u001b[43mmolecule1\u001b[49m\u001b[43m,\u001b[49m\u001b[43m \u001b[49m\u001b[43msire_mapping\u001b[49m\u001b[43m,\u001b[49m\u001b[43m \u001b[49m\u001b[43mallow_ring_breaking\u001b[49m\u001b[38;5;241;43m=\u001b[39;49m\u001b[43mallow_ring_breaking\u001b[49m\u001b[43m,\u001b[49m\n\u001b[1;32m   1217\u001b[0m \u001b[43m        \u001b[49m\u001b[43mallow_ring_size_change\u001b[49m\u001b[38;5;241;43m=\u001b[39;49m\u001b[43mallow_ring_size_change\u001b[49m\u001b[43m,\u001b[49m\u001b[43m \u001b[49m\u001b[43mforce\u001b[49m\u001b[38;5;241;43m=\u001b[39;49m\u001b[43mforce\u001b[49m\u001b[43m,\u001b[49m\n\u001b[1;32m   1218\u001b[0m \u001b[43m        \u001b[49m\u001b[43mproperty_map0\u001b[49m\u001b[38;5;241;43m=\u001b[39;49m\u001b[43mproperty_map0\u001b[49m\u001b[43m,\u001b[49m\u001b[43m \u001b[49m\u001b[43mproperty_map1\u001b[49m\u001b[38;5;241;43m=\u001b[39;49m\u001b[43mproperty_map1\u001b[49m\u001b[43m)\u001b[49m\n",
      "File \u001b[0;32m~/Software/miniconda3/envs/bss-d/lib/python3.9/site-packages/BioSimSpace/Align/_merge.py:156\u001b[0m, in \u001b[0;36mmerge\u001b[0;34m(molecule0, molecule1, mapping, allow_ring_breaking, allow_ring_size_change, force, property_map0, property_map1)\u001b[0m\n\u001b[1;32m    154\u001b[0m \u001b[38;5;66;03m# Force field information is missing.\u001b[39;00m\n\u001b[1;32m    155\u001b[0m \u001b[38;5;28;01mif\u001b[39;00m \u001b[38;5;129;01mnot\u001b[39;00m molecule0\u001b[38;5;241m.\u001b[39mhasProperty(ff0):\n\u001b[0;32m--> 156\u001b[0m     \u001b[38;5;28;01mraise\u001b[39;00m _IncompatibleError(\u001b[38;5;124m\"\u001b[39m\u001b[38;5;124mCannot determine \u001b[39m\u001b[38;5;124m'\u001b[39m\u001b[38;5;124mforcefield\u001b[39m\u001b[38;5;124m'\u001b[39m\u001b[38;5;124m of \u001b[39m\u001b[38;5;124m'\u001b[39m\u001b[38;5;124mmolecule0\u001b[39m\u001b[38;5;124m'\u001b[39m\u001b[38;5;124m!\u001b[39m\u001b[38;5;124m\"\u001b[39m)\n\u001b[1;32m    157\u001b[0m \u001b[38;5;28;01mif\u001b[39;00m \u001b[38;5;129;01mnot\u001b[39;00m molecule1\u001b[38;5;241m.\u001b[39mhasProperty(ff1):\n\u001b[1;32m    158\u001b[0m     \u001b[38;5;28;01mraise\u001b[39;00m _IncompatibleError(\u001b[38;5;124m\"\u001b[39m\u001b[38;5;124mCannot determine \u001b[39m\u001b[38;5;124m'\u001b[39m\u001b[38;5;124mforcefield\u001b[39m\u001b[38;5;124m'\u001b[39m\u001b[38;5;124m of \u001b[39m\u001b[38;5;124m'\u001b[39m\u001b[38;5;124mmolecule1\u001b[39m\u001b[38;5;124m'\u001b[39m\u001b[38;5;124m!\u001b[39m\u001b[38;5;124m\"\u001b[39m)\n",
      "\u001b[0;31mIncompatibleError\u001b[0m: Cannot determine 'forcefield' of 'molecule0'!"
     ]
    }
   ],
   "source": [
    "merged = BSS.Align.merge(ligand_1, ligand_2)"
   ]
  },
  {
   "cell_type": "code",
   "execution_count": null,
   "id": "5e307563",
   "metadata": {},
   "outputs": [],
   "source": []
  },
  {
   "cell_type": "markdown",
   "id": "ac8e6d6e",
   "metadata": {},
   "source": [
    "Add the merged ligand to the protein to create the system:"
   ]
  },
  {
   "cell_type": "code",
   "execution_count": 35,
   "id": "f5df29e6",
   "metadata": {},
   "outputs": [],
   "source": [
    "system = merged + protein"
   ]
  },
  {
   "cell_type": "code",
   "execution_count": null,
   "id": "a1ebacb8",
   "metadata": {},
   "outputs": [],
   "source": []
  },
  {
   "cell_type": "markdown",
   "id": "442995d3",
   "metadata": {},
   "source": [
    "# Solvation\n",
    "\n",
    "We will have two environments:\n",
    "1. Each ligand (`merged`) in the solvent, **not bound** to the protein, call this `unbound`\n",
    "2. Each ligand (`system`) in the solvent, **bound** to the protein, call this `bound`.\n"
   ]
  },
  {
   "cell_type": "code",
   "execution_count": 29,
   "id": "340d276f",
   "metadata": {},
   "outputs": [],
   "source": [
    "box_dimensions =  3 * [10 * BSS.Units.Length.nanometer] \n",
    "unbound = BSS.Solvent.tip3p(molecule=merged, box=box_dimensions)\n",
    "bound = BSS.Solvent.tip3p(molecule=system, box=box_dimensions)"
   ]
  },
  {
   "cell_type": "markdown",
   "id": "8f82f370",
   "metadata": {},
   "source": [
    "# FEP Protocol\n",
    "\n",
    "Now we can write the protocol and the set up files and soon finally run the FEP.  "
   ]
  },
  {
   "cell_type": "code",
   "execution_count": 17,
   "id": "98c55581",
   "metadata": {},
   "outputs": [
    {
     "data": {
      "text/plain": [
       "['Somd', 'Gromacs']"
      ]
     },
     "execution_count": 17,
     "metadata": {},
     "output_type": "execute_result"
    }
   ],
   "source": [
    "BSS.FreeEnergy.engines()"
   ]
  },
  {
   "cell_type": "code",
   "execution_count": 30,
   "id": "1187c5d4",
   "metadata": {},
   "outputs": [],
   "source": [
    "protocol = BSS.Protocol.FreeEnergy()\n",
    "free_energy_ub = BSS.FreeEnergy.Relative(unbound, protocol, engine=\"Somd\", work_dir=\"output/unbound/\")\n",
    "free_energy_b = BSS.FreeEnergy.Relative(bound, protocol, engine=\"Somd\", work_dir=\"output/bound/\")"
   ]
  },
  {
   "cell_type": "markdown",
   "id": "627ad735",
   "metadata": {},
   "source": [
    "# Setup folders etc for running on GPUs\n",
    "\n",
    "See Notion."
   ]
  },
  {
   "cell_type": "code",
   "execution_count": null,
   "id": "3238d1ce",
   "metadata": {},
   "outputs": [],
   "source": []
  }
 ],
 "metadata": {
  "kernelspec": {
   "display_name": "Python 3 (ipykernel)",
   "language": "python",
   "name": "python3"
  },
  "language_info": {
   "codemirror_mode": {
    "name": "ipython",
    "version": 3
   },
   "file_extension": ".py",
   "mimetype": "text/x-python",
   "name": "python",
   "nbconvert_exporter": "python",
   "pygments_lexer": "ipython3",
   "version": "3.9.12"
  }
 },
 "nbformat": 4,
 "nbformat_minor": 5
}
