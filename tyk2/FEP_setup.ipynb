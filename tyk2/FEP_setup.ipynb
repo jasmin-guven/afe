{
 "cells": [
  {
   "cell_type": "code",
   "execution_count": 1,
   "metadata": {},
   "outputs": [
    {
     "name": "stdout",
     "output_type": "stream",
     "text": [
      "\n",
      "==============================================================\n",
      "Sending anonymous Sire usage statistics to http://siremol.org.\n",
      "For more information, see http://siremol.org/analytics\n",
      "To disable, set the environment variable 'SIRE_DONT_PHONEHOME' to 1\n",
      "To see the information sent, set the environment variable \n",
      "SIRE_VERBOSE_PHONEHOME equal to 1. To silence this message, set\n",
      "the environment variable SIRE_SILENT_PHONEHOME to 1.\n",
      "==============================================================\n",
      "\n"
     ]
    },
    {
     "name": "stderr",
     "output_type": "stream",
     "text": [
      "/home/jguven/Software/miniconda3/envs/bss22/lib/python3.9/site-packages/numpy/core/getlimits.py:499: UserWarning: The value of the smallest subnormal for <class 'numpy.float64'> type is zero.\n",
      "  setattr(self, word, getattr(machar, word).flat[0])\n",
      "/home/jguven/Software/miniconda3/envs/bss22/lib/python3.9/site-packages/numpy/core/getlimits.py:89: UserWarning: The value of the smallest subnormal for <class 'numpy.float64'> type is zero.\n",
      "  return self._float_to_str(self.smallest_subnormal)\n",
      "/home/jguven/Software/miniconda3/envs/bss22/lib/python3.9/site-packages/numpy/core/getlimits.py:499: UserWarning: The value of the smallest subnormal for <class 'numpy.float32'> type is zero.\n",
      "  setattr(self, word, getattr(machar, word).flat[0])\n",
      "/home/jguven/Software/miniconda3/envs/bss22/lib/python3.9/site-packages/numpy/core/getlimits.py:89: UserWarning: The value of the smallest subnormal for <class 'numpy.float32'> type is zero.\n",
      "  return self._float_to_str(self.smallest_subnormal)\n",
      "Warning: importing 'simtk.openmm' is deprecated.  Import 'openmm' instead.\n"
     ]
    }
   ],
   "source": [
    "import numpy as np\n",
    "import BioSimSpace as BSS"
   ]
  },
  {
   "cell_type": "code",
   "execution_count": 4,
   "metadata": {},
   "outputs": [],
   "source": [
    "# Paths\n",
    "path_to_ligands = \"../../BioSimSpaceTutorials/04_fep/inputs/ligands/\"\n",
    "path_to_protein = \"inputs/protein/tyk2_clean.pdb\""
   ]
  },
  {
   "cell_type": "code",
   "execution_count": 5,
   "metadata": {},
   "outputs": [
    {
     "data": {
      "text/plain": [
       "<BioSimSpace.Molecule: nAtoms=4666, nResidues=289>"
      ]
     },
     "execution_count": 5,
     "metadata": {},
     "output_type": "execute_result"
    }
   ],
   "source": [
    "# Load input files\n",
    "ligand_1 = BSS.IO.readMolecules(path_to_ligands+\"ejm_50.mol2\")[0]\n",
    "ligand_2 = BSS.IO.readMolecules(path_to_ligands+\"ejm_49.mol2\")[0]\n",
    "protein = BSS.IO.readMolecules(path_to_protein)[0]\n",
    "protein"
   ]
  },
  {
   "cell_type": "markdown",
   "metadata": {},
   "source": [
    "# Parameterising input molecules"
   ]
  },
  {
   "cell_type": "code",
   "execution_count": 6,
   "metadata": {},
   "outputs": [],
   "source": [
    "ligand_1 = BSS.Parameters.gaff2(ligand_1).getMolecule()"
   ]
  },
  {
   "cell_type": "code",
   "execution_count": 7,
   "metadata": {},
   "outputs": [],
   "source": [
    "ligand_2 = BSS.Parameters.gaff2(ligand_2).getMolecule()"
   ]
  },
  {
   "cell_type": "markdown",
   "metadata": {},
   "source": [
    "# NOTE\n",
    "\n",
    "Before the below step, run `pdb4amber` to first remove hydrogens and then to add all missing atoms. Details on Notion."
   ]
  },
  {
   "cell_type": "code",
   "execution_count": 8,
   "metadata": {},
   "outputs": [],
   "source": [
    "protein = BSS.Parameters.parameterise(protein, forcefield=\"ff14SB\").getMolecule()"
   ]
  },
  {
   "cell_type": "markdown",
   "metadata": {},
   "source": [
    "# Alignment and merging\n",
    "\n",
    "To transform two ligands, they need to be well aligned. In BSS, we can do this with the function `Align`. It uses a Maximum Common Substructure (MCS) search, which finds mappings between atom indices in the two molecules. \n",
    "\n",
    "`BSS.Align.matchAtoms()` matches the atoms with MCS. It finds mappings between atom indices in molecule 1 and molecule 2. \n",
    "\n",
    "`BSS.Align.rmsdAlign()` uses the above mapping to actually align the atoms from molecule 1 to molecule 2. "
   ]
  },
  {
   "cell_type": "code",
   "execution_count": 9,
   "metadata": {},
   "outputs": [],
   "source": [
    "atom_mapping = BSS.Align.matchAtoms(ligand_1, ligand_2)\n",
    "aligned_ligand_1 = BSS.Align.rmsdAlign(ligand_1, ligand_2, atom_mapping)"
   ]
  },
  {
   "cell_type": "markdown",
   "metadata": {},
   "source": [
    "Now we have to create a 'merged' molecule, i.e. a molecule that we can transform in a way such that the endpoints are both input ligands:"
   ]
  },
  {
   "cell_type": "code",
   "execution_count": 10,
   "metadata": {},
   "outputs": [],
   "source": [
    "merged = BSS.Align.merge(ligand_1, ligand_2)"
   ]
  },
  {
   "cell_type": "markdown",
   "metadata": {},
   "source": [
    "Add the merged ligand to the protein to create the system:"
   ]
  },
  {
   "cell_type": "code",
   "execution_count": 11,
   "metadata": {},
   "outputs": [],
   "source": [
    "system = merged + protein"
   ]
  },
  {
   "cell_type": "markdown",
   "metadata": {},
   "source": [
    "# Solvation\n",
    "\n",
    "We will have two environments:\n",
    "1. Each ligand (`merged`) in the solvent, **not bound** to the protein, call this `unbound`\n",
    "2. Each ligand (`system`) in the solvent, **bound** to the protein, call this `bound`.\n"
   ]
  },
  {
   "cell_type": "code",
   "execution_count": 12,
   "metadata": {},
   "outputs": [],
   "source": [
    "box_dimensions =  3 * [10 * BSS.Units.Length.nanometer] \n",
    "unbound = BSS.Solvent.tip3p(molecule=merged, box=box_dimensions)\n",
    "bound = BSS.Solvent.tip3p(molecule=system, box=box_dimensions)"
   ]
  },
  {
   "cell_type": "markdown",
   "metadata": {},
   "source": [
    "# FEP Protocol\n",
    "\n",
    "Now we can write the protocol and the set up files and soon finally run the FEP.  "
   ]
  },
  {
   "cell_type": "code",
   "execution_count": 13,
   "metadata": {},
   "outputs": [
    {
     "data": {
      "text/plain": [
       "['Somd', 'Gromacs']"
      ]
     },
     "execution_count": 13,
     "metadata": {},
     "output_type": "execute_result"
    }
   ],
   "source": [
    "BSS.FreeEnergy.engines()"
   ]
  },
  {
   "cell_type": "code",
   "execution_count": 14,
   "metadata": {},
   "outputs": [],
   "source": [
    "protocol = BSS.Protocol.FreeEnergy()\n",
    "free_energy_ub = BSS.FreeEnergy.Relative(unbound, protocol, engine=\"Gromacs\", work_dir=\"output/gromacs/ejm50~ejm49/unbound/\")\n",
    "free_energy_b = BSS.FreeEnergy.Relative(bound, protocol, engine=\"Gromacs\", work_dir=\"output/gromacs/ejm50~ejm49/bound/\")"
   ]
  },
  {
   "cell_type": "markdown",
   "metadata": {},
   "source": [
    "# Setup folders etc for running on GPUs\n",
    "\n",
    "See Notion."
   ]
  },
  {
   "cell_type": "code",
   "execution_count": null,
   "metadata": {},
   "outputs": [],
   "source": []
  }
 ],
 "metadata": {
  "kernelspec": {
   "display_name": "Python 3",
   "language": "python",
   "name": "python3"
  },
  "language_info": {
   "codemirror_mode": {
    "name": "ipython",
    "version": 3
   },
   "file_extension": ".py",
   "mimetype": "text/x-python",
   "name": "python",
   "nbconvert_exporter": "python",
   "pygments_lexer": "ipython3",
   "version": "3.8.10"
  }
 },
 "nbformat": 4,
 "nbformat_minor": 5
}
